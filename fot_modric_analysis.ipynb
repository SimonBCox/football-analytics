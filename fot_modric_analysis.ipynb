{
 "cells": [
  {
   "cell_type": "markdown",
   "metadata": {},
   "source": [
    "# The performance of Luka Modrić during the FIFA World Cup 2018\n",
    "*Insipred by the Friends of Tracking Academy*"
   ]
  },
  {
   "cell_type": "markdown",
   "metadata": {},
   "source": [
    "## Objective of this report\n",
    "1) Think of a player who you enjoyed watching at the recent Men's or Women's World Cups.<br>\n",
    "2) What actions did they perform that were important and why?<br>\n",
    "3) Plot the actions and describe how the data supports or contradicts your own analysis.<br>\n",
    "4) Write a tweet/short blog post using at most two figures that illustrate your point.<br>\n",
    "## 0 - Story\n",
    "During the FIFA World Cup 2018, Croatia captain Luca Modrić was awarded the best player of the tournament. In the Netherlands he is known as \"de kleine dribbelaar\" (the little dribbler). Let's find out how good of a dribbler he actually is. Therefore, we will be looking at the number of dribbles (or carries) performed by Modrić and initially compare that to his team mates' performance."
   ]
  },
  {
   "cell_type": "markdown",
   "metadata": {},
   "source": [
    "<img src=\"images/luka_modric_dribble.jpg\" title=\"Luka Modrić in action during the FIFA World Cup 2018\" style=\"width: 250px;\" align=\"left\"/>"
   ]
  },
  {
   "cell_type": "markdown",
   "metadata": {},
   "source": [
    "## 1 - Loading packages and setting variables\n",
    "First of all we import the required packages and setting general variables."
   ]
  },
  {
   "cell_type": "code",
   "execution_count": 1,
   "metadata": {
    "scrolled": true
   },
   "outputs": [],
   "source": [
    "import os, json, math, time, matplotlib.pyplot as plt, pandas as pd, numpy as np, ipywidgets as widgets\n",
    "from tabulate import tabulate\n",
    "\n",
    "# Import from utils.py\n",
    "from utils import create_arrow_map, create_heat_map"
   ]
  },
  {
   "cell_type": "code",
   "execution_count": 2,
   "metadata": {},
   "outputs": [],
   "source": [
    "# Set dimensions of pitch\n",
    "pitch_length = 120  # yards * 0.9144 = meters\n",
    "pitch_width = 80    # yards * 0.9144 = meters\n",
    "\n",
    "# Set path to data\n",
    "path = f\"{os.getcwd()}\\\\data_statsbomb\\\\data\""
   ]
  },
  {
   "cell_type": "markdown",
   "metadata": {},
   "source": [
    "## 2 - Loading the data\n",
    "In this section we will load the event data of Luka Modrić during the FIFA World Cup - 2018. This is done in seven (7) steps. In steps 1, 3, 5, and 7 we will load the **competition**, **match**, **lineup**, and **event** data made available by *StatsBomb*. For those of you who are interested in someone else then Luka Modrić, steps 2, 4, and 6 provide the opportunity to select a different competition, team and player. By default these variables are set to \"FIFA World Cup - 2018\", \"Croatia\", and \"Luka Modrić\"."
   ]
  },
  {
   "cell_type": "markdown",
   "metadata": {},
   "source": [
    "*Step 1: load all competition data*"
   ]
  },
  {
   "cell_type": "code",
   "execution_count": 3,
   "metadata": {},
   "outputs": [],
   "source": [
    "# Load competition data\n",
    "with open(f\"{path}\\\\competitions.json\", \"r\") as f:\n",
    "    competitions = json.load(f)\n",
    "comp_df = pd.json_normalize(competitions, sep=\"_\")"
   ]
  },
  {
   "cell_type": "markdown",
   "metadata": {},
   "source": [
    "*Step 2: select the competition of interest*"
   ]
  },
  {
   "cell_type": "code",
   "execution_count": 4,
   "metadata": {},
   "outputs": [
    {
     "data": {
      "application/vnd.jupyter.widget-view+json": {
       "model_id": "0c5097f15dbc4ca7a509574cb69f3a9f",
       "version_major": 2,
       "version_minor": 0
      },
      "text/plain": [
       "Dropdown(description='Select competition:', index=17, options=('Champions League - 2018/2019', 'Champions Leag…"
      ]
     },
     "metadata": {},
     "output_type": "display_data"
    }
   ],
   "source": [
    "# Create list of competitions to choose from\n",
    "competitions = list(comp_df.competition_name + \" - \" + comp_df.season_name)\n",
    "\n",
    "# Create drop down menu\n",
    "select_competition = widgets.Dropdown(\n",
    "    options=competitions,\n",
    "    value=\"FIFA World Cup - 2018\",\n",
    "    description='Select competition:',\n",
    "    style={'description_width': 'initial'})\n",
    "display(select_competition)"
   ]
  },
  {
   "cell_type": "markdown",
   "metadata": {},
   "source": [
    "*Step 3: load the match data for the competition of interest*"
   ]
  },
  {
   "cell_type": "code",
   "execution_count": 5,
   "metadata": {},
   "outputs": [],
   "source": [
    "# Determine the competition_id of the selected competition\n",
    "competition = select_competition.value\n",
    "competition_name, season_name = competition.split(\" - \")\n",
    "comp_id = comp_df.loc[(comp_df.competition_name==competition_name) & (comp_df.season_name==season_name)].competition_id.iloc[0]\n",
    "\n",
    "# Load match data\n",
    "files = os.listdir(f\"{path}\\\\matches\\\\{comp_id}\")\n",
    "if len(files) == 1:\n",
    "    with open(f\"{path}\\\\matches\\\\{comp_id}\\\\{files[0]}\") as f:\n",
    "        matches = json.load(f)\n",
    "matches_df = pd.json_normalize(matches, sep=\"_\")"
   ]
  },
  {
   "cell_type": "markdown",
   "metadata": {},
   "source": [
    "*Step 4: load event data for the competition of interest*"
   ]
  },
  {
   "cell_type": "code",
   "execution_count": 6,
   "metadata": {},
   "outputs": [
    {
     "name": "stdout",
     "output_type": "stream",
     "text": [
      "Event data loaded in 57.7 seconds.\n"
     ]
    }
   ],
   "source": [
    "# Load event data for selected competition\n",
    "t0 = time.time() # Keep track of loading time\n",
    "events_list = []\n",
    "for i, match_id in enumerate(matches_df.match_id):\n",
    "    with open(f\"{path}\\\\events\\\\{match_id}.json\", \"r\", encoding=\"utf8\") as f:\n",
    "        events = json.load(f)\n",
    "    events_list.append(pd.json_normalize(events, sep=\"_\").assign(match_id=match_id))\n",
    "events_df = pd.concat(events_list)\n",
    "\n",
    "print(f\"Event data loaded in {round(time.time() - t0,1)} seconds.\")"
   ]
  },
  {
   "cell_type": "markdown",
   "metadata": {},
   "source": [
    "*Step 5: select the team of interest*"
   ]
  },
  {
   "cell_type": "code",
   "execution_count": 7,
   "metadata": {},
   "outputs": [
    {
     "data": {
      "application/vnd.jupyter.widget-view+json": {
       "model_id": "6018d44eda6343c18373ceeac04072bf",
       "version_major": 2,
       "version_minor": 0
      },
      "text/plain": [
       "Dropdown(description='Choose team:', index=6, options=('Australia', 'Peru', 'Nigeria', 'Iceland', 'Serbia', 'B…"
      ]
     },
     "metadata": {},
     "output_type": "display_data"
    }
   ],
   "source": [
    "# Create list of teams to choose from\n",
    "teams = pd.unique(matches_df[[\"home_team_home_team_name\", \"away_team_away_team_name\"]].values.ravel())\n",
    "\n",
    "# Set default team\n",
    "if \"Croatia\" in teams:\n",
    "    team_tag = \"Croatia\"\n",
    "else:\n",
    "    team_tag = None\n",
    "    \n",
    "# Create drop down menu\n",
    "select_team = widgets.Dropdown(\n",
    "    options=teams,\n",
    "    value=team_tag,\n",
    "    description='Choose team:',\n",
    "    style={'description_width': 'initial'})\n",
    "display(select_team)"
   ]
  },
  {
   "cell_type": "markdown",
   "metadata": {},
   "source": [
    "*Step 6: load the lineup data for all matches played by the team of interest*"
   ]
  },
  {
   "cell_type": "code",
   "execution_count": 8,
   "metadata": {},
   "outputs": [],
   "source": [
    "# Filter matches for team of interest only\n",
    "team = select_team.value\n",
    "matches_df = matches_df[(matches_df[\"home_team_home_team_name\"]==team) | (matches_df[\"away_team_away_team_name\"]==team)]\n",
    "\n",
    "# lineup data for matches\n",
    "lineups_list = []\n",
    "for moi_id in matches_df.match_id:\n",
    "    with open(f\"{path}\\\\lineups\\\\{moi_id}.json\", \"r\", encoding=\"utf8\") as f:\n",
    "        lineup = json.load(f)\n",
    "    lineups_list.append(pd.json_normalize(lineup, sep=\"_\").assign(match_id=moi_id))\n",
    "lineups_df = pd.concat(lineups_list)"
   ]
  },
  {
   "cell_type": "markdown",
   "metadata": {},
   "source": [
    "*Step 7: select the player of interest*"
   ]
  },
  {
   "cell_type": "code",
   "execution_count": 9,
   "metadata": {},
   "outputs": [
    {
     "data": {
      "application/vnd.jupyter.widget-view+json": {
       "model_id": "ceb2317432cf4738a12f9f395a15b99d",
       "version_major": 2,
       "version_minor": 0
      },
      "text/plain": [
       "Dropdown(description='Choose player:', index=16, options=('Ivan Rakitić', 'Marko Pjaca', 'Dejan Lovren', 'Ivan…"
      ]
     },
     "metadata": {},
     "output_type": "display_data"
    }
   ],
   "source": [
    "# Create list of player to choose from\n",
    "lineups = lineups_df[lineups_df.team_name == team].lineup\n",
    "players = set([player[\"player_name\"] for lineup in lineups for player in lineup])\n",
    "\n",
    "# Set default player\n",
    "if \"Luka Modrić\" in players:\n",
    "    player_tag = \"Luka Modrić\"\n",
    "else:\n",
    "    player_tag = None\n",
    "\n",
    "# Create drop down menu\n",
    "select_player = widgets.Dropdown(\n",
    "    options=players,\n",
    "    value=player_tag,\n",
    "    description='Choose player:',\n",
    "    style={'description_width': 'initial'})\n",
    "display(select_player)"
   ]
  },
  {
   "cell_type": "markdown",
   "metadata": {},
   "source": [
    "*Step 7: load the event data for the player of interest*"
   ]
  },
  {
   "cell_type": "code",
   "execution_count": 10,
   "metadata": {},
   "outputs": [],
   "source": [
    "# # Load event data\n",
    "# events_list = []\n",
    "# for i, match_id in enumerate(matches_df.match_id):\n",
    "#     with open(f\"{path}\\\\events\\\\{match_id}.json\", \"r\", encoding=\"utf8\") as f:\n",
    "#         events = json.load(f)\n",
    "#     events_list.append(pd.json_normalize(events, sep=\"_\").assign(match_id=match_id))\n",
    "# events_df = pd.concat(events_list)\n",
    "\n"
   ]
  },
  {
   "cell_type": "markdown",
   "metadata": {},
   "source": [
    "## 3 - Performance analysis"
   ]
  },
  {
   "cell_type": "markdown",
   "metadata": {},
   "source": [
    "This chapter contains the analysis of Luka's performance. In sec. 3.1 we will dive into Luka's performance, in sec. 3.2 we compare him to his team mates, and in sec. 3.3 we compare him to all top players in the FIFA World Cup - 2018."
   ]
  },
  {
   "cell_type": "markdown",
   "metadata": {},
   "source": [
    "### 3.1 - Luka's performance\n",
    "In this section we will analyse the performance of Luka Modrić. At first, we will print some basic information, from where we will work our way towards plotting some colorful and insightful maps."
   ]
  },
  {
   "cell_type": "code",
   "execution_count": null,
   "metadata": {},
   "outputs": [],
   "source": [
    "# Filter events for player of interest only\n",
    "player = select_player.value\n",
    "player_events_df = events_df[events_df.player_name==player]\n",
    "\n",
    "# The top 5 most performed events by the player\n",
    "player_events_grouped = player_events_df.groupby('type_name')[\"player_name\"].value_counts().unstack().sort_values(player, ascending=False).head(5)\n",
    "\n",
    "# How often and how fare did Modric carry the ball\n",
    "# Calculate the distance per carry\n",
    "pd.options.mode.chained_assignment = None # supress SettingWithCopyWarning\n",
    "player_events_df[\"distance_carried\"] = player_events_df.apply(lambda x: round(math.sqrt((x.location[0]-x.carry_end_location[0])**2 +\n",
    "                                                                                        (x.location[1]-x.carry_end_location[1])**2))\n",
    "                                                              if type(x.carry_end_location)==list else None, axis=1)\n",
    "\n",
    "# Count number of carries and total distance carried per match\n",
    "summary = player_events_df.groupby(\"match_id\")[\"distance_carried\"].agg([\"count\", \"sum\"]).rename(columns={\"count\":\"nr_of_carries\", \"sum\":\"distance_carried\"})\n",
    "\n",
    "# Create match name (home team vs away team) and add to summary\n",
    "matches_df[\"match_name\"] = matches_df.home_team_home_team_name + \" vs \" + matches_df.away_team_away_team_name\n",
    "summary.insert(0, \"match_name\", matches_df.set_index(\"match_id\").loc[summary.index].match_name)\n",
    "\n",
    "# Calculate totals for all matches and add to summary\n",
    "totals = pd.DataFrame({\"match_name\":[\"Total\"], \"nr_of_carries\":[summary.nr_of_carries.sum()], \"distance_carried\":[summary.distance_carried.sum()]})\n",
    "summary = summary.append(totals, ignore_index=True)\n",
    "\n",
    "# Print information\n",
    "print(f\"\\nDuring the {competition}, {team} played {len(matches_df)} matches.\",\\\n",
    "      f\"\\n{player} participated in {len(player_events_df.match_id.unique())} of these matches and played the following position(s):\\n\")\n",
    "print(tabulate([[pp] for pp in player_events_df.position_name.unique()], headers=[\"Position(s)\"], tablefmt='pipe'))\n",
    "print(f\"\\nBelow are the top 5 most performed events by {player}\\n\")\n",
    "print(tabulate(player_events_grouped, headers=['Event_type', '#'], tablefmt='pipe'))\n",
    "print(\"\\nFinally, below an overview per match of the number of carries and the total distance carried\\n\")\n",
    "print(tabulate(summary, headers=['Match name', 'Total carries', 'Total distance carried'], tablefmt='pipe', showindex=False))"
   ]
  },
  {
   "cell_type": "markdown",
   "metadata": {},
   "source": [
    "Now let's plot a pass and carry map for Luca Modrić. We can do this for all matches, althoug that plot would contain too much information and will not be informative. Therefore, let's select only one of the machtes."
   ]
  },
  {
   "cell_type": "code",
   "execution_count": null,
   "metadata": {},
   "outputs": [],
   "source": [
    "# Create list of matches to choose from\n",
    "matches = list(matches_df.home_team_home_team_name + \" vs \" + matches_df.away_team_away_team_name) + [\"All\"]\n",
    "\n",
    "# Set default match\n",
    "if \"Croatia vs England\" in matches:\n",
    "    match_tag = \"Russia vs Croatia\"\n",
    "else:\n",
    "    match_tag = None\n",
    "\n",
    "# Create drop down menu\n",
    "select_match = widgets.Dropdown(\n",
    "    options=matches,\n",
    "    value=match_tag,\n",
    "    description='Choose match:',\n",
    "    style={'description_width': 'initial'})\n",
    "display(select_match)"
   ]
  },
  {
   "cell_type": "markdown",
   "metadata": {},
   "source": [
    "Let's plot the pass, carry and heat map for the selected match."
   ]
  },
  {
   "cell_type": "code",
   "execution_count": null,
   "metadata": {},
   "outputs": [],
   "source": [
    "# Filter events for selected match\n",
    "match = select_match.value\n",
    "if match != \"All\":\n",
    "    home_team, away_team = match.split(\" vs \")\n",
    "    match_id = matches_df[(matches_df.home_team_home_team_name==home_team) & (matches_df.away_team_away_team_name==away_team)].match_id.iloc[0]\n",
    "    events_to_plot = player_events_df[player_events_df.match_id==match_id]\n",
    "else:\n",
    "    events_to_plot = player_events_df\n",
    "\n",
    "# Initialize figure\n",
    "fig = plt.figure(figsize=(25, 5))\n",
    "\n",
    "# Draw pass map\n",
    "ax1 = fig.add_subplot(1,3,1)\n",
    "fig, ax1 = create_arrow_map(events=events_to_plot, event_type=\"Pass\", match=match, fig=fig, ax=ax1, pitch_length=pitch_length, pitch_width=pitch_width)\n",
    "\n",
    "# Draw carry map\n",
    "ax2 = fig.add_subplot(1,3,2)\n",
    "fig, ax2 = create_arrow_map(events=events_to_plot, event_type=\"Carry\", match=match, fig=fig, ax=ax2, pitch_length=pitch_length, pitch_width=pitch_width, color=\"green\")\n",
    "\n",
    "# Draw heat map\n",
    "ax3 = fig.add_subplot(1,3,3)\n",
    "fig, ax3 = create_heat_map(events=events_to_plot, match=match, fig=fig, ax=ax3, pitch_length=pitch_length, pitch_width=pitch_width)"
   ]
  },
  {
   "cell_type": "markdown",
   "metadata": {},
   "source": [
    "### 3.2 - Comparing to his team mates\n",
    "In this section we will compare Luka's performance to his team mates' performance, focussing on passes and carries."
   ]
  },
  {
   "cell_type": "code",
   "execution_count": null,
   "metadata": {},
   "outputs": [],
   "source": [
    "# Get team events\n",
    "team_events_df = events_df[events_df.player_name.isin(players)]\n",
    "team_events_df[\"distance_carried\"] = team_events_df.apply(lambda x: round(math.sqrt((x.location[0]-x.carry_end_location[0])**2 +\n",
    "                                                                                    (x.location[1]-x.carry_end_location[1])**2))\n",
    "                                                          if type(x.carry_end_location)==list else 0, axis=1)\n",
    "\n",
    "# Calculate nr of matches played per player\n",
    "team_events_grouped = team_events_df.groupby(['type_name'])[\"player_name\"].value_counts().unstack().transpose()\n",
    "\n",
    "# Calculate number of matches played and total distance carried\n",
    "team_events_grouped[[\"Matches Played\", \"Total Distance Carried\"]] =  team_events_df.groupby('player_name').agg({\"match_id\":\"nunique\", \"distance_carried\":\"sum\"})\n",
    "\n",
    "# Calculate maximum distance carried in one match\n",
    "team_events_grouped[\"Max. Distance\"] = team_events_df.groupby([\"player_name\", \"match_id\"]).agg({'distance_carried':\"sum\"}).unstack().max(axis=1)"
   ]
  },
  {
   "cell_type": "code",
   "execution_count": null,
   "metadata": {},
   "outputs": [],
   "source": [
    "team_events_grouped[[\"Carry\", \"Total Distance Carried\", \"Matches Played\", \"Max. Distance\"]]"
   ]
  },
  {
   "cell_type": "markdown",
   "metadata": {},
   "source": [
    "### 3.3 - Comparing to all other players"
   ]
  },
  {
   "cell_type": "code",
   "execution_count": null,
   "metadata": {},
   "outputs": [],
   "source": [
    "plot = test[[\"Carry\", \"Pass\", \"Ball Receipt*\"]].plot.bar(rot=45, subplots=True, layout=(1,3), figsize=(20,5), title=\"Events per match\", legend='reverse', sharey=True)"
   ]
  },
  {
   "cell_type": "markdown",
   "metadata": {},
   "source": [
    "Average nr of carries / distance carried / passes per match  \n",
    "Total and maximum carry distance for all matches"
   ]
  },
  {
   "cell_type": "code",
   "execution_count": null,
   "metadata": {},
   "outputs": [],
   "source": [
    "team_events_df[[\"location\", \"carry_end_location\"]]"
   ]
  },
  {
   "cell_type": "code",
   "execution_count": null,
   "metadata": {},
   "outputs": [],
   "source": []
  }
 ],
 "metadata": {
  "kernelspec": {
   "display_name": "Python 3",
   "language": "python",
   "name": "python3"
  },
  "language_info": {
   "codemirror_mode": {
    "name": "ipython",
    "version": 3
   },
   "file_extension": ".py",
   "mimetype": "text/x-python",
   "name": "python",
   "nbconvert_exporter": "python",
   "pygments_lexer": "ipython3",
   "version": "3.7.3"
  }
 },
 "nbformat": 4,
 "nbformat_minor": 4
}
